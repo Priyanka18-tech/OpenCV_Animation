{
 "cells": [
  {
   "cell_type": "markdown",
   "metadata": {
    "id": "giMuoBjPXttK"
   },
   "source": [
    "**GIF**"
   ]
  },
  {
   "cell_type": "markdown",
   "metadata": {},
   "source": [
    "### import libraries"
   ]
  },
  {
   "cell_type": "code",
   "execution_count": 2,
   "metadata": {
    "id": "vzD8G5fLWiZ-"
   },
   "outputs": [],
   "source": [
    "import numpy as np\n",
    "import pandas as pd\n",
    "import os\n",
    "import re\n",
    "import cv2\n"
   ]
  },
  {
   "cell_type": "markdown",
   "metadata": {
    "id": "RpXmF4byXqYR"
   },
   "source": [
    "## Creating functions"
   ]
  },
  {
   "cell_type": "code",
   "execution_count": 6,
   "metadata": {
    "id": "78JbLZ2kYHc7"
   },
   "outputs": [],
   "source": [
    "x1 = -1\n",
    "y1 = -1\n",
    "def mouse_tracking(event, x, y, flags, param):\n",
    "    global x1, y1\n",
    "    if event == 1 :\n",
    "        x1 = x\n",
    "        y1 = y\n",
    "    elif event == 2 :\n",
    "\n",
    "        #cv2.circle(img,(x,y),20,(255,255,255),-1)\n",
    "#         cv2.circle(img,(x,y),40,(0,0,0),0.9)\n",
    "        #cv2.circle(img,(x,y),20,(0,0,0),2)\n",
    "        cv2.line(img,(x1,y1),(x,y),(0,0,255),6)\n",
    "    elif event==10:\n",
    "        cv2.circle(img,(x,y),18,(255,255,255),-1)\n",
    "        #cv2.line(img,(x,y),20,(235,206,135),3)\n",
    "        #cv2.line(img,(x1,y1),(x,y),(235,206,135),6)\n",
    "        #cv2.line(img,(x1,y1),(x,y),(0,0,0),2)\n",
    "         #cv2.rectangle(img,(x1,y1),(x,y),(18,4,89),-1)\n"
   ]
  },
  {
   "cell_type": "markdown",
   "metadata": {},
   "source": [
    "## Creating a video"
   ]
  },
  {
   "cell_type": "code",
   "execution_count": null,
   "metadata": {
    "id": "eZsBLcYvYHgU"
   },
   "outputs": [],
   "source": [
    "cv2.namedWindow(\"mouse tracking\",flags = cv2.WINDOW_FREERATIO)\n",
    "cv2.setMouseCallback(\"mouse tracking\", mouse_tracking)\n",
    "c=27\n",
    "black_image =  np.zeros((1000,1000,3),dtype=np.uint8)\n",
    "\n",
    "while True:\n",
    "    cv2.imshow(\"mouse tracking\",img)\n",
    "    if cv2.waitKey(1) & 255 ==ord(\"c\"):\n",
    "        cv2.imwrite(r\"C:\\Users\\user\\desktop\\ML\\gif\\{}.jpg\".format(c),img)\n",
    "        print(\"image is captured\")\n",
    "        c=c+1\n",
    "    if cv2.waitKey(1) & 255 == ord(\"q\"):\n",
    "        break\n",
    "cv2.destroyAllWindows()"
   ]
  },
  {
   "cell_type": "markdown",
   "metadata": {},
   "source": [
    "### List of figures"
   ]
  },
  {
   "cell_type": "code",
   "execution_count": 3,
   "metadata": {
    "colab": {
     "base_uri": "https://localhost:8080/",
     "height": 158
    },
    "id": "ZNJOGdEaYHos",
    "outputId": "672d8ece-1095-4d07-ce59-492cf6ecf9a1"
   },
   "outputs": [],
   "source": [
    "frames = os.listdir(r\"C:\\Users\\user\\desktop\\ML\\gif\")"
   ]
  },
  {
   "cell_type": "code",
   "execution_count": 4,
   "metadata": {
    "id": "5WLAB3TbYHsk"
   },
   "outputs": [
    {
     "data": {
      "text/plain": [
       "['0 .2.jpg',\n",
       " '0.1.jpg',\n",
       " '0.jpg',\n",
       " '10.jpg',\n",
       " '11.jpg',\n",
       " '12.jpg',\n",
       " '13.jpg',\n",
       " '14.jpg',\n",
       " '15.jpg',\n",
       " '16.27.jpg',\n",
       " '16.28.jpg',\n",
       " '16.29.jpg',\n",
       " '16.jpg',\n",
       " '23.jpg',\n",
       " '24.jpg',\n",
       " '25.jpg',\n",
       " '26.jpg',\n",
       " '5.jpg',\n",
       " '6.jpg',\n",
       " '9.jpg']"
      ]
     },
     "execution_count": 4,
     "metadata": {},
     "output_type": "execute_result"
    }
   ],
   "source": [
    "frames"
   ]
  },
  {
   "cell_type": "markdown",
   "metadata": {},
   "source": [
    "### sort the frames\n"
   ]
  },
  {
   "cell_type": "code",
   "execution_count": 5,
   "metadata": {
    "colab": {
     "base_uri": "https://localhost:8080/",
     "height": 193
    },
    "id": "1vZAFcmEYHwE",
    "outputId": "cd6d4417-bbcc-478b-ff50-ceed94b6d6bf"
   },
   "outputs": [],
   "source": [
    "import re\n",
    "frame_file = [f for f in frames if f.endswith(('.jpg'))]\n",
    "frame_file.sort(key=lambda x: int(re.findall(r'\\d+', os.path.splitext(x)[0])[0]))"
   ]
  },
  {
   "cell_type": "code",
   "execution_count": 6,
   "metadata": {
    "id": "tN-OmYbXYhhK"
   },
   "outputs": [
    {
     "data": {
      "text/plain": [
       "['0 .2.jpg',\n",
       " '0.1.jpg',\n",
       " '0.jpg',\n",
       " '5.jpg',\n",
       " '6.jpg',\n",
       " '9.jpg',\n",
       " '10.jpg',\n",
       " '11.jpg',\n",
       " '12.jpg',\n",
       " '13.jpg',\n",
       " '14.jpg',\n",
       " '15.jpg',\n",
       " '16.27.jpg',\n",
       " '16.28.jpg',\n",
       " '16.29.jpg',\n",
       " '16.jpg',\n",
       " '23.jpg',\n",
       " '24.jpg',\n",
       " '25.jpg',\n",
       " '26.jpg']"
      ]
     },
     "execution_count": 6,
     "metadata": {},
     "output_type": "execute_result"
    }
   ],
   "source": [
    "frame_file"
   ]
  },
  {
   "cell_type": "markdown",
   "metadata": {},
   "source": [
    "### Playing a video"
   ]
  },
  {
   "cell_type": "code",
   "execution_count": null,
   "metadata": {
    "id": "k2m_tbSrYhdl"
   },
   "outputs": [],
   "source": [
    "while True:\n",
    "    for images in frame_file:\n",
    "        img=cv2.imread(r\"C:\\Users\\user\\desktop\\ML\\gif\\{}\".format(images))\n",
    "\n",
    "        cv2.imshow(\"gif\",img)\n",
    "        if cv2.waitKey(100) == ord(\"q\"):\n",
    "            break\n",
    "        else:\n",
    "            continue\n",
    "        break\n",
    "\n",
    "cv2.destroyAllWindows()\n"
   ]
  },
  {
   "cell_type": "code",
   "execution_count": 7,
   "metadata": {
    "id": "8ponDg9SYhNr"
   },
   "outputs": [],
   "source": [
    "import cv2\n",
    "import os\n",
    "\n",
    "# Directory containing the image frames\n",
    "frame_dir = r\"C:\\Users\\user\\desktop\\ML\\gif\"\n",
    "\n",
    "# List all frame files in the directory\n",
    "frame_file = [f for f in os.listdir(frame_dir) if f.endswith(('.jpg', '.png'))]\n",
    "frame_file.sort()  # Ensure files are sorted alphabetically or numerically\n",
    "\n",
    "while True:\n",
    "    for images in frame_file:\n",
    "        # Construct full path for the image\n",
    "        img_path = os.path.join(frame_dir, images)\n",
    "\n",
    "        # Read the image\n",
    "        img = cv2.imread(img_path)\n",
    "        if img is None:\n",
    "            print(f\"Error reading {img_path}. Skipping...\")\n",
    "            continue\n",
    "\n",
    "        # Display the image\n",
    "        cv2.imshow(\"GIF Animation\", img)\n",
    "\n",
    "        # Wait for 100ms or break if 'q' is pressed\n",
    "        if cv2.waitKey(100) & 0xFF == ord(\"q\"):\n",
    "            break\n",
    "    else:\n",
    "        # Continue the outer loop if the inner loop finishes without a break\n",
    "        continue\n",
    "    # Break the outer loop if 'q' is pressed\n",
    "    break\n",
    "\n",
    "# Destroy all OpenCV windows\n",
    "cv2.destroyAllWindows()\n"
   ]
  },
  {
   "cell_type": "code",
   "execution_count": 13,
   "metadata": {
    "id": "TTvwNk23YhKO"
   },
   "outputs": [
    {
     "name": "stdout",
     "output_type": "stream",
     "text": [
      "GIF has been created at: C:\\Users\\user\\desktop\\ML\\gif\\animation.gif\n"
     ]
    }
   ],
   "source": [
    "from PIL import Image\n",
    "import os\n",
    "\n",
    "# Folder containing captured images\n",
    "image_folder = r\"C:\\Users\\user\\desktop\\ML\\gif\"\n",
    "# List all images in the folder\n",
    "captured_images = [os.path.join(image_folder, file) for file in os.listdir(image_folder) if file.endswith(\".jpg\")]\n",
    "\n",
    "# Sort the images by name (optional, for correct sequence)\n",
    "captured_images.sort()\n",
    "\n",
    "# Check if images are available\n",
    "if captured_images:\n",
    "    # Open images and convert them to RGB format\n",
    "    images = [Image.open(img_path).convert(\"RGB\") for img_path in captured_images]\n",
    "    \n",
    "    # Save as a GIF\n",
    "    gif_path = os.path.join(image_folder, \"animation.gif\")\n",
    "    images[0].save(\n",
    "        gif_path, \n",
    "        save_all=True, \n",
    "        append_images=images[1:], \n",
    "        optimize=True, \n",
    "        duration=250,  # Set duration between frames in milliseconds\n",
    "        loop=0  # 0 means infinite loop\n",
    "    )\n",
    "    print(f\"GIF has been created at: {gif_path}\")\n",
    "else:\n",
    "    print(\"No images found to create a GIF.\")"
   ]
  },
  {
   "cell_type": "code",
   "execution_count": 12,
   "metadata": {},
   "outputs": [
    {
     "name": "stdout",
     "output_type": "stream",
     "text": [
      "Collecting Pillow\n",
      "  Downloading pillow-11.0.0-cp313-cp313-win_amd64.whl.metadata (9.3 kB)\n",
      "Downloading pillow-11.0.0-cp313-cp313-win_amd64.whl (2.6 MB)\n",
      "   ---------------------------------------- 0.0/2.6 MB ? eta -:--:--\n",
      "   ------------ --------------------------- 0.8/2.6 MB 5.9 MB/s eta 0:00:01\n",
      "   -------------------------------- ------- 2.1/2.6 MB 6.0 MB/s eta 0:00:01\n",
      "   ---------------------------------------- 2.6/2.6 MB 6.1 MB/s eta 0:00:00\n",
      "Installing collected packages: Pillow\n",
      "Successfully installed Pillow-11.0.0\n",
      "Note: you may need to restart the kernel to use updated packages.\n"
     ]
    }
   ],
   "source": [
    "pip install Pillow\n"
   ]
  },
  {
   "cell_type": "code",
   "execution_count": null,
   "metadata": {
    "id": "wpVHFqiBbyOv"
   },
   "outputs": [],
   "source": []
  },
  {
   "cell_type": "code",
   "execution_count": null,
   "metadata": {
    "id": "2-kzRQjCbyLk"
   },
   "outputs": [],
   "source": []
  },
  {
   "cell_type": "code",
   "execution_count": null,
   "metadata": {
    "id": "b4IPBl93byIS"
   },
   "outputs": [],
   "source": []
  },
  {
   "cell_type": "code",
   "execution_count": null,
   "metadata": {
    "id": "2VRbjlImbyE6"
   },
   "outputs": [],
   "source": []
  }
 ],
 "metadata": {
  "colab": {
   "provenance": []
  },
  "kernelspec": {
   "display_name": "Python 3 (ipykernel)",
   "language": "python",
   "name": "python3"
  },
  "language_info": {
   "codemirror_mode": {
    "name": "ipython",
    "version": 3
   },
   "file_extension": ".py",
   "mimetype": "text/x-python",
   "name": "python",
   "nbconvert_exporter": "python",
   "pygments_lexer": "ipython3",
   "version": "3.11.11"
  }
 },
 "nbformat": 4,
 "nbformat_minor": 4
}
