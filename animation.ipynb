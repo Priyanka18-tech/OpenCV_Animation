{
 "cells": [
  {
   "cell_type": "markdown",
   "id": "16aa9bee-6696-45c7-9f03-bc1a6e1f2532",
   "metadata": {},
   "source": [
    "# Animation"
   ]
  },
  {
   "cell_type": "markdown",
   "id": "f474f3eb-895c-4edd-bb5c-4636845d9f26",
   "metadata": {},
   "source": [
    "### import libraries"
   ]
  },
  {
   "cell_type": "code",
   "execution_count": 1,
   "id": "391031ad-2f8d-43f9-bb72-0e17e4114c69",
   "metadata": {},
   "outputs": [],
   "source": [
    "import numpy as np\n",
    "import pandas as pd\n",
    "import os\n",
    "import re\n",
    "import cv2"
   ]
  },
  {
   "cell_type": "markdown",
   "id": "3836e8fb-4c51-45c8-9e3d-8dd04daccc38",
   "metadata": {},
   "source": [
    "#### Creating functions"
   ]
  },
  {
   "cell_type": "code",
   "execution_count": 2,
   "id": "532520be-f899-48be-83b9-ebf0a0c0d119",
   "metadata": {},
   "outputs": [],
   "source": [
    "x1 = -1\n",
    "y1 = -1\n",
    "def mouse_tracking(event, x, y, flags, param):\n",
    "    global x1, y1\n",
    "    if event == 1 :\n",
    "        x1 = x\n",
    "        y1 = y\n",
    "    #elif event == 2 :\n",
    "          #cv2.line(img,(x1,y1),(x,y),(0,0,0),2)\n",
    "           #cv2.circle(img,(x,y),5,(277,178,10),-1)\n",
    "        #cv2.circle(img,(x,y),5,(255,255,255),-1)\n",
    "\n",
    "    elif event ==2:\n",
    "\n",
    "          #cv2.circle(img,(x,y),5,(20,0,255),-1)\n",
    "         # cv2.circle(img,(x,y),5,(255,0,0),-1)\n",
    "          #cv2.circle(img,(x,y),20,(136,22,17),-1)\n",
    "          #cv2.rectangle(img,(x1,y1),(x,y),(18,4,89),-1)\n",
    "          cv2.putText(img,\"Innomatics Research Labs\",(150,200),cv2.FONT_HERSHEY_COMPLEX,1,(105,16,122),4)\n",
    "          cv2.putText(img,\"Credits :\",(75,400),cv2.FONT_HERSHEY_COMPLEX,1,(122,17,16),4)\n",
    "          cv2.putText(img,\"Priyanka \",(75,440),cv2.FONT_HERSHEY_COMPLEX,1,(59,31,146),1)\n",
    "          cv2.putText(img,\"Surekha \",(75,480),cv2.FONT_HERSHEY_COMPLEX,1,(59,31,146),1)\n",
    "          cv2.putText(img,\"shaik.afroz\",(75,520),cv2.FONT_HERSHEY_COMPLEX,1,(59,31,146),1)\n",
    "          cv2.putText(img,\"VAMSHI\",(75,560),cv2.FONT_HERSHEY_COMPLEX,1,(59,31,146),1)\n",
    "\n",
    "          cv2.putText(img,\"Guided by :\",(400,400),cv2.FONT_HERSHEY_COMPLEX,1,(87,46,40),4)\n",
    "          cv2.putText(img,\"Saxon K Sha\",(400,440),cv2.FONT_HERSHEY_COMPLEX,1,(59,31,146),1)\n",
    "          cv2.putText(img,\"Lakshmi Teja Illuri\",(400,480),cv2.FONT_HERSHEY_COMPLEX,1,(59,31,146),1)\n",
    "          cv2.putText(img,\"Lakshmi Vangapandu\",(400,520),cv2.FONT_HERSHEY_COMPLEX,1,(59,31,146),1)"
   ]
  },
  {
   "cell_type": "code",
   "execution_count": 8,
   "id": "a38fd8c3-e62f-4ba2-b690-3492012fdd46",
   "metadata": {},
   "outputs": [],
   "source": [
    "img=cv2.imread(r\"C:\\Users\\user\\desktop\\MLi\\Animation_Frames\\1.jpg\")"
   ]
  },
  {
   "cell_type": "code",
   "execution_count": 10,
   "id": "81aceacc-757e-4c2c-a2d1-39a0e23c3637",
   "metadata": {},
   "outputs": [],
   "source": [
    "cv2.namedWindow(\"mouse tracking\",flags = cv2.WINDOW_FREERATIO)\n",
    "cv2.setMouseCallback(\"mouse tracking\", mouse_tracking)\n",
    "c=237\n",
    "\n",
    "black_image =  np.zeros((1000,1000,3),dtype=np.uint8)\n",
    "\n",
    "while True:\n",
    "    cv2.imshow(\"mouse tracking\",img)\n",
    "    if cv2.waitKey(1) & 255 ==ord(\"s\"):\n",
    "        cv2.imwrite(r\"C:\\Users\\user\\desktop\\ML\\Animation_Frames\\{}.jpg\".format(c),img)\n",
    "        print(\"image is captured\")\n",
    "        c=c+1\n",
    "    if cv2.waitKey(1) & 255 == ord(\"q\"):\n",
    "        break\n",
    "cv2.destroyAllWindows()"
   ]
  },
  {
   "cell_type": "markdown",
   "id": "0a17ba39-8ada-46d1-92d5-fd1c23ebbea6",
   "metadata": {},
   "source": [
    "### List of figures"
   ]
  },
  {
   "cell_type": "code",
   "execution_count": 12,
   "id": "990ad235-564b-4487-859b-89d99fd4abca",
   "metadata": {},
   "outputs": [],
   "source": [
    "frames = os.listdir(r\"C:\\Users\\user\\desktop\\MLi\\Animation_Frames\")"
   ]
  },
  {
   "cell_type": "code",
   "execution_count": null,
   "id": "d8323c6f-bf51-481b-9c54-a4b1ff1a8ffe",
   "metadata": {},
   "outputs": [],
   "source": [
    "import cv2\n",
    "import os\n",
    "\n",
    "# Path to the directory containing animation frames\n",
    "frame_folder = r\"C:\\Users\\user\\desktop\\ML\\Animation\"\n",
    "\n",
    "# List and sort the frame files (filter for .jpg images)\n",
    "frames = [f for f in os.listdir(frame_folder) if f.endswith('.jpg')]\n",
    "import re\n",
    "frames.sort(key=lambda x: int(re.findall(r'\\d+', os.path.splitext(x)[0])[0]))\n",
    "\n",
    "# Path to save the output video\n",
    "output_video_path = r\"C:\\Users\\user\\desktop\\MLi\\Animation_Frames\\output_video.mp4\"\n",
    "\n",
    "# Get the size of the first frame to define video resolution\n",
    "first_frame = cv2.imread(os.path.join(frame_folder, frames[0]))\n",
    "height, width, _ = first_frame.shape\n",
    "\n",
    "# Define the codec and create the VideoWriter object\n",
    "fourcc = cv2.VideoWriter_fourcc(*'mp4v')  # Codec for .mp4 files\n",
    "fps = 5  # Frames per second\n",
    "out = cv2.VideoWriter(output_video_path, fourcc, fps, (width, height))\n",
    "\n",
    "# Loop through each frame and write to the video\n",
    "for image_file in frames:\n",
    "    img_path = os.path.join(frame_folder, image_file)\n",
    "    frame = cv2.imread(img_path)\n",
    "\n",
    "    # Check if the frame is loaded correctly\n",
    "    if frame is None:\n",
    "        print(f\"Failed to load frame: {image_file}\")\n",
    "        continue\n",
    "\n",
    "    # Write the frame to the video\n",
    "    out.write(frame)\n",
    "\n",
    "# Release the VideoWriter and cleanup\n",
    "out.release()\n",
    "print(f\"Video saved at: {output_video_path}\")\n"
   ]
  },
  {
   "cell_type": "code",
   "execution_count": null,
   "id": "5355f8b9-c41b-4ef9-a23f-2c68e5809433",
   "metadata": {},
   "outputs": [],
   "source": []
  },
  {
   "cell_type": "code",
   "execution_count": null,
   "id": "c26e012c-11bf-433b-a355-f886e602e122",
   "metadata": {},
   "outputs": [],
   "source": []
  },
  {
   "cell_type": "code",
   "execution_count": null,
   "id": "631ca5d7-131d-472d-baba-3e275c6dc288",
   "metadata": {},
   "outputs": [],
   "source": []
  },
  {
   "cell_type": "code",
   "execution_count": null,
   "id": "74676e49-02d7-4f87-ae9b-7eb2f43d0183",
   "metadata": {},
   "outputs": [],
   "source": []
  },
  {
   "cell_type": "code",
   "execution_count": null,
   "id": "4a36c779-9abd-47e4-8da3-b078edce6d7d",
   "metadata": {},
   "outputs": [],
   "source": []
  },
  {
   "cell_type": "code",
   "execution_count": null,
   "id": "d34f017a-23e1-4377-8bc2-8d7b865c0742",
   "metadata": {},
   "outputs": [],
   "source": []
  },
  {
   "cell_type": "code",
   "execution_count": null,
   "id": "83a67e2c-841b-4217-891a-b6e38f060952",
   "metadata": {},
   "outputs": [],
   "source": []
  }
 ],
 "metadata": {
  "kernelspec": {
   "display_name": "Python 3 (ipykernel)",
   "language": "python",
   "name": "python3"
  },
  "language_info": {
   "codemirror_mode": {
    "name": "ipython",
    "version": 3
   },
   "file_extension": ".py",
   "mimetype": "text/x-python",
   "name": "python",
   "nbconvert_exporter": "python",
   "pygments_lexer": "ipython3",
   "version": "3.11.11"
  }
 },
 "nbformat": 4,
 "nbformat_minor": 5
}
